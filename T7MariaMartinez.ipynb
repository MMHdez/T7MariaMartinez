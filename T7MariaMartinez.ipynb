{
 "cells": [
  {
   "cell_type": "markdown",
   "id": "a80e5ea7",
   "metadata": {},
   "source": [
    "<img style=\"float: left; margin: 30px 15px 15px 15px;\" src=\"https://encrypted-tbn0.gstatic.com/images?q=tbn:ANd9GcTFzQj91sOlkeDFkg5HDbjtR4QJYmLXkfMNig&usqp=CAU\" width=\"400\" height=\"500\" /> \n",
    "    \n",
    "    \n",
    "### <font color='navy'> Simulación matemática. \n",
    "\n",
    "**Nombres:** María del Carmen Martínez Hernández.\n",
    "\n",
    "**Fecha:** 10 de octubre del 2022.\n",
    "\n",
    "**Expediente** : NT729340.\n",
    "    \n",
    "**Profesor:** Oscar David Jaramillo Zuluaga.\n",
    "    \n",
    "**Link Github**: https://github.com/MMHdez/T7MariaMartinez\n",
    "\n",
    "# Tarea 6: Clase 10"
   ]
  },
  {
   "cell_type": "markdown",
   "id": "8080ef0c",
   "metadata": {},
   "source": [
    "## TAREA 6\n",
    "1. Aproximar el área de la región descrita por\n",
    "\n",
    "$$x^2+2y^2\\leq-2x+8y-7$$\n",
    "\n",
    "Poner los resultados en una tabla cuyas filas correspondan a la cantidad de términos utilizados en la aproximación (usar 1, 10, 100, 1000, 10000 y 100000 términos) y en las columnas el valor de aproximación y el error relativo.\n",
    "\n",
    "Definir unos límites adecuados $a_1$, $b_1$, $a_2$ y $b_2$, para la región $R=\\left[a_1,b_1\\right]\\times\\left[a_2,b_2\\right]$\n",
    "\n",
    "**Entregable: se debe subir un archivo con extensión .ipnyb y nombrarlo con el formato T7PrimerNombrePrimerApellido.ipynb**"
   ]
  },
  {
   "cell_type": "code",
   "execution_count": 126,
   "id": "94c82a4b",
   "metadata": {},
   "outputs": [],
   "source": [
    "# importar librería numpy\n",
    "import numpy as np\n",
    "\n",
    "# Importar librería pandas\n",
    "import pandas as pd\n",
    "\n",
    "# Importar librería para graficar\n",
    "import matplotlib.pyplot as plt"
   ]
  },
  {
   "cell_type": "code",
   "execution_count": 127,
   "id": "4504e127",
   "metadata": {},
   "outputs": [],
   "source": [
    "# Escribir la función \n",
    "def montecarlo2(region, a1, b1, a2, b2, N):\n",
    "    AR = (b1-a1)*(b2-a2)\n",
    "    x = np.random.uniform(a1, b1, N)\n",
    "    y = np.random.uniform(a2, b2, N)\n",
    "    bi = region(x, y)\n",
    "    AD_approx = AR*np.mean(bi)\n",
    "    return AD_approx"
   ]
  },
  {
   "cell_type": "code",
   "execution_count": 128,
   "id": "31e20b54",
   "metadata": {},
   "outputs": [],
   "source": [
    "# Definir la función del área de la región a aproximar\n",
    "def region(x, y):\n",
    "    return x**2 + 2*y**2 <= -2*x + 8*y - 7"
   ]
  },
  {
   "cell_type": "code",
   "execution_count": 106,
   "id": "89cbdf00",
   "metadata": {},
   "outputs": [],
   "source": [
    "# Definir ejes\n",
    "xnum = np.linspace(-3, 1, 2000)\n",
    "ynum = np.linspace(0.5, 3.5, 2000)\n",
    "\n",
    "X, Y = np.meshgrid(xnum, ynum)"
   ]
  },
  {
   "cell_type": "code",
   "execution_count": 107,
   "id": "db6155f9",
   "metadata": {},
   "outputs": [
    {
     "data": {
      "image/png": "[encoded data removed]",
      "text/plain": [
       "<Figure size 576x576 with 1 Axes>"
      ]
     },
     "metadata": {
      "needs_background": "light"
     },
     "output_type": "display_data"
    }
   ],
   "source": [
    "##~\n",
    "plt.figure(figsize=(8, 8))\n",
    "\n",
    "# Graficar los puntos del rectangulo R que estan dentro de la region D\n",
    "plt.scatter(X, Y, c=~region(X,Y), cmap='bone') \n",
    "\n",
    "plt.grid()\n",
    "plt.show()"
   ]
  },
  {
   "cell_type": "code",
   "execution_count": 152,
   "id": "29ea2282",
   "metadata": {},
   "outputs": [
    {
     "data": {
      "text/html": [
       "<div>\n",
       "<style scoped>\n",
       "    .dataframe tbody tr th:only-of-type {\n",
       "        vertical-align: middle;\n",
       "    }\n",
       "\n",
       "    .dataframe tbody tr th {\n",
       "        vertical-align: top;\n",
       "    }\n",
       "\n",
       "    .dataframe thead th {\n",
       "        text-align: right;\n",
       "    }\n",
       "</style>\n",
       "<table border=\"1\" class=\"dataframe\">\n",
       "  <thead>\n",
       "    <tr style=\"text-align: right;\">\n",
       "      <th></th>\n",
       "      <th>Aproximación</th>\n",
       "      <th>Error relativo</th>\n",
       "    </tr>\n",
       "  </thead>\n",
       "  <tbody>\n",
       "    <tr>\n",
       "      <th>1</th>\n",
       "      <td>0.0</td>\n",
       "      <td>100.0</td>\n",
       "    </tr>\n",
       "    <tr>\n",
       "      <th>10</th>\n",
       "      <td>4.8</td>\n",
       "      <td>52.788745</td>\n",
       "    </tr>\n",
       "    <tr>\n",
       "      <th>100</th>\n",
       "      <td>4.96</td>\n",
       "      <td>57.881704</td>\n",
       "    </tr>\n",
       "    <tr>\n",
       "      <th>1000</th>\n",
       "      <td>4.176</td>\n",
       "      <td>32.926208</td>\n",
       "    </tr>\n",
       "    <tr>\n",
       "      <th>10000</th>\n",
       "      <td>4.5968</td>\n",
       "      <td>46.320688</td>\n",
       "    </tr>\n",
       "    <tr>\n",
       "      <th>100000</th>\n",
       "      <td>4.4432</td>\n",
       "      <td>41.431449</td>\n",
       "    </tr>\n",
       "  </tbody>\n",
       "</table>\n",
       "</div>"
      ],
      "text/plain": [
       "       Aproximación Error relativo\n",
       "1               0.0          100.0\n",
       "10              4.8      52.788745\n",
       "100            4.96      57.881704\n",
       "1000          4.176      32.926208\n",
       "10000        4.5968      46.320688\n",
       "100000       4.4432      41.431449"
      ]
     },
     "execution_count": 152,
     "metadata": {},
     "output_type": "execute_result"
    }
   ],
   "source": [
    "# Resolver\n",
    "a1, b1, a2, b2 = -3, 1, 0, 4\n",
    "\n",
    "# Establecer la cantidad de términos a utilizar para la aproximación\n",
    "N = np.logspace(0, 5, 6).astype(int)\n",
    "\n",
    "# Crear la tabla (DataFrame de pandas)\n",
    "tabla2 = pd.DataFrame(index = N, columns=['Aproximación', 'Error relativo' ])\n",
    "\n",
    "for n in N:\n",
    "    area_aprox = montecarlo2(region, a1, b1, a2, b2, n)\n",
    "    tabla2.loc[n, 'Aproximación'] = area_aprox\n",
    "    tabla2['Error relativo'] = 100*np.abs(tabla2['Aproximación'] - np.pi)/np.pi\n",
    "\n",
    "tabla2"
   ]
  },
  {
   "cell_type": "markdown",
   "id": "7933e7a4",
   "metadata": {},
   "source": [
    "**Conclusión:** El área se aproxima cada vez más al área real con un valor cercano a  $2 u^2$\n"
   ]
  }
 ],
 "metadata": {
  "kernelspec": {
   "display_name": "Python 3 (ipykernel)",
   "language": "python",
   "name": "python3"
  },
  "language_info": {
   "codemirror_mode": {
    "name": "ipython",
    "version": 3
   },
   "file_extension": ".py",
   "mimetype": "text/x-python",
   "name": "python",
   "nbconvert_exporter": "python",
   "pygments_lexer": "ipython3",
   "version": "3.9.12"
  }
 },
 "nbformat": 4,
 "nbformat_minor": 5
}
